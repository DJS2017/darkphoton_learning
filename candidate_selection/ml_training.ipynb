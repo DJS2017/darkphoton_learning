{
 "cells": [
  {
   "cell_type": "code",
   "execution_count": 2,
   "metadata": {
    "collapsed": false
   },
   "outputs": [
    {
     "name": "stderr",
     "output_type": "stream",
     "text": [
      "Using Theano backend.\n"
     ]
    },
    {
     "name": "stdout",
     "output_type": "stream",
     "text": [
      "(3197755, 23)\n",
      "(2709556, 23)\n"
     ]
    }
   ],
   "source": [
    "# data processing packages\n",
    "import numpy as np\n",
    "import pandas as pd\n",
    "from pandas import DataFrame, Series\n",
    "\n",
    "# deep learning packages\n",
    "import keras\n",
    "from keras.models import Sequential\n",
    "from keras.layers import Dense, Activation\n",
    "from keras.models import load_model\n",
    "\n",
    "# machine learning packages\n",
    "from sklearn.model_selection import train_test_split\n",
    "from sklearn.metrics import roc_curve\n",
    "from sklearn.linear_model import LogisticRegressionCV\n",
    "from sklearn.tree import DecisionTreeClassifier\n",
    "from sklearn.ensemble import GradientBoostingClassifier\n",
    "from sklearn.ensemble import RandomForestClassifier\n",
    "from sklearn.externals import joblib\n",
    "\n",
    "# model evaluation packages\n",
    "from sklearn.metrics import mutual_info_score\n",
    "from scipy.stats import pearsonr\n",
    "from sklearn.metrics import roc_curve\n",
    "from sklearn.model_selection import train_test_split\n",
    "\n",
    "# plot packages\n",
    "import matplotlib.pyplot as plt\n",
    "import matplotlib.cm as cm\n",
    "%matplotlib inline\n",
    "\n",
    "# load data\n",
    "path = '/Users/yunxuanli/Documents/Caltechphd/research/Analysis/DarkMatter/darkphoton_learning/candidate_selection/data/'\n",
    "signal_train = pd.read_hdf(path+'fullsignal_train.hdf', 'signal')\n",
    "print signal_train.shape\n",
    "signal_train = signal_train.dropna()\n",
    "print signal_train.shape\n",
    "\n",
    "feature_name = signal_train.columns.tolist()\n",
    "feature_name.remove('eid')\n",
    "feature_name.remove('truth_matching')\n",
    "feature_name.remove('upsmcmass')\n",
    "feature_name.remove('A1mcmass')\n",
    "feature_name.remove('A2mcmass')\n",
    "feature_name.remove('A3mcmass')\n",
    "\n",
    "X_train = signal_train[feature_name].values\n",
    "y_train = signal_train['truth_matching'].values\n",
    "y_train = y_train.astype(int)"
   ]
  },
  {
   "cell_type": "code",
   "execution_count": null,
   "metadata": {
    "collapsed": false
   },
   "outputs": [],
   "source": [
    "# model definiiton and training\n",
    "weight = np.zeros(y_train.shape)\n",
    "weight = weight + 1\n",
    "weight[y_train==1] = y_train.shape[0] / sum(y_train)\n",
    "\n",
    "\n",
    "clf_lg = LogisticRegressionCV()\n",
    "clf_lg.fit(X_train, y_train, sample_weight=weight)\n",
    "joblib.dump(clf_lg,'./models/lg.pkl')\n",
    "\n",
    "clf_dt = DecisionTreeClassifier()\n",
    "clf_dt.fit(X_train, y_train, sample_weight=weight)\n",
    "joblib.dump(clf_dt,'./models/dt.pkl')\n",
    "\n",
    "clf_gbdt = GradientBoostingClassifier(n_estimators=100)\n",
    "clf_gbdt.fit(X_train, y_train, sample_weight=weight)\n",
    "joblib.dump(clf_gbdt,'./models/gbdt100.pkl')\n",
    "\n",
    "clf_rf = RandomForestClassifier(n_estimators=30)\n",
    "clf_rf.fit(X_train, y_train, sample_weight=weight)\n",
    "joblib.dump(clf_rf,'./models/rf10.pkl')"
   ]
  }
 ],
 "metadata": {
  "anaconda-cloud": {},
  "kernelspec": {
   "display_name": "Python [default]",
   "language": "python",
   "name": "python2"
  },
  "language_info": {
   "codemirror_mode": {
    "name": "ipython",
    "version": 2
   },
   "file_extension": ".py",
   "mimetype": "text/x-python",
   "name": "python",
   "nbconvert_exporter": "python",
   "pygments_lexer": "ipython2",
   "version": "2.7.12"
  }
 },
 "nbformat": 4,
 "nbformat_minor": 1
}
